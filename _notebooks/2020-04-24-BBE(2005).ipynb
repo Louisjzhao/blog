{
 "cells": [
  {
   "cell_type": "markdown",
   "metadata": {},
   "source": [
    "# \"FAVAR - BBE (2005) Replication in R\"\n",
    "> \"Replication of Bernanke, Boivin and Eliasz (QJE, 2005) in R. This code is written to facilitate the undertanding of FAVAR rather than to be efficient\"\n",
    "\n",
    "- toc:true- branch: master- badges: true- comments: false\n",
    "- author: João B. Duarte\n",
    "- categories: [Time Series, R, FAVAR]"
   ]
  },
  {
   "cell_type": "markdown",
   "metadata": {},
   "source": [
    "The FAVAR model is represented by the following system:\n",
    "\n",
    "$$\n",
    "X_t = \\Lambda^f F_t + \\Lambda^y Y_t + e_t\n",
    "$$\n",
    "\n",
    "$$\n",
    "\\begin{bmatrix} F_t \\\\ Y_t \\end{bmatrix} = \\Psi(L)\\begin{bmatrix} F_{t-1} \\\\ Y_{t-1} \\end{bmatrix} + v_t \n",
    "$$\n",
    "\n",
    "where $F_t$ is the collection of variables that is unobservable, while $Y_t$ is is of the observable. For further description of the FAVAR model and its properties please see BBE (QJE, 2005)"
   ]
  },
  {
   "cell_type": "code",
   "execution_count": null,
   "metadata": {},
   "outputs": [],
   "source": []
  },
  {
   "cell_type": "code",
   "execution_count": null,
   "metadata": {},
   "outputs": [],
   "source": []
  }
 ],
 "metadata": {
  "kernelspec": {
   "display_name": "Python 3",
   "language": "python",
   "name": "python3"
  },
  "language_info": {
   "codemirror_mode": {
    "name": "ipython",
    "version": 3
   },
   "file_extension": ".py",
   "mimetype": "text/x-python",
   "name": "python",
   "nbconvert_exporter": "python",
   "pygments_lexer": "ipython3",
   "version": "3.6.9"
  }
 },
 "nbformat": 4,
 "nbformat_minor": 4
}
