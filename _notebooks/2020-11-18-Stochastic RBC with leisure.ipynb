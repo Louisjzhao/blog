{
 "cells": [
  {
   "cell_type": "markdown",
   "metadata": {},
   "source": [
    "# \"Stochastic Real Business Cycle Model with Leisure and Many Shocks in Python\"\n",
    "\n",
    "- toc:true\n",
    "- branch: master\n",
    "- badges: true\n",
    "- comments: false\n",
    "- author: João B. Duarte\n",
    "- categories: [Python, Dynamic Programming]"
   ]
  },
  {
   "cell_type": "markdown",
   "metadata": {},
   "source": [
    "This notebook illustrates how to solve an extended version of the real business cycle model, where on top of the standard labor augmenting technology shocks, there are also shocks to the labor/leisure choice, the Euler equation and where government expenditures are stochastic. This is the prototype economy in Chari, Kehoe and McGrattan (2007) Business Cycle Accounting.\n",
    "\n",
    "In the following, we use italics for scalars, lowercase bold for vectors and uppercase bold for matrices."
   ]
  },
  {
   "cell_type": "markdown",
   "metadata": {},
   "source": [
    "### Model"
   ]
  },
  {
   "cell_type": "markdown",
   "metadata": {},
   "source": [
    "Suppose households own the capital stock and rent it out at rate $r_t$. They also work for wages at rate $w_t$ per unit of labor input. The problem is to solve:"
   ]
  },
  {
   "cell_type": "markdown",
   "metadata": {},
   "source": [
    "$$\\max_{c_t,x_t,l_t} E_0 \\sum_{t=0}^\\infty \\beta^t u(c_t,1-l_t)n_t$$"
   ]
  },
  {
   "cell_type": "markdown",
   "metadata": {},
   "source": [
    "subject to:"
   ]
  },
  {
   "cell_type": "markdown",
   "metadata": {},
   "source": [
    "\\begin{align}\n",
    "c_t+(1+\\tau_{xt})x_t&=r_tk_t+(1-\\tau_{lt})w_tl_t+t_t \\\\\n",
    "n_{t+1}k_{t+1}&=[(1-\\delta)k_t+x_t]n_t \\\\\n",
    "c_t&\\geq 0, \\forall t\n",
    "\\end{align}"
   ]
  },
  {
   "cell_type": "markdown",
   "metadata": {},
   "source": [
    "Transfers are residually determined and made lump-sum after government expenditures have been incurred. Lowercase variables define per-capita quantitites, and $n_t$, is the population level at time $t$.\n",
    "\n",
    "Firms are competitive and solve:"
   ]
  },
  {
   "cell_type": "markdown",
   "metadata": {},
   "source": [
    "$$\\max_{k_t,l_t} F(k_t,\\phi_tl_t)-r_tk_t-w_tl_t$$"
   ]
  },
  {
   "cell_type": "markdown",
   "metadata": {},
   "source": [
    "Finally, the resource constraint for the economy is given by:"
   ]
  },
  {
   "cell_type": "markdown",
   "metadata": {},
   "source": [
    "$$c_t+x_t+g_t=y_t$$"
   ]
  },
  {
   "cell_type": "markdown",
   "metadata": {},
   "source": [
    "Suppose the following functional forms are used for preferences"
   ]
  },
  {
   "cell_type": "markdown",
   "metadata": {},
   "source": [
    "$$U\\{c_t,l_t\\}_0^\\infty = E_0 \\sum_{t=0}^\\infty \\beta^t [\\ln c_t+\\psi \\ln(1-l_t)]n_t$$"
   ]
  },
  {
   "cell_type": "markdown",
   "metadata": {},
   "source": [
    "and technology"
   ]
  },
  {
   "cell_type": "markdown",
   "metadata": {},
   "source": [
    "$$F(k_t,\\phi l_t)=k^\\theta_t(z_t(1+g_z)^tl_t)^{1-\\theta}, \\ln z_t \\sim N(0,1).$$"
   ]
  },
  {
   "cell_type": "markdown",
   "metadata": {},
   "source": [
    "### Functional Forms and Detrending"
   ]
  },
  {
   "cell_type": "markdown",
   "metadata": {},
   "source": [
    "The utility function in detrended terms, is then given by"
   ]
  },
  {
   "cell_type": "markdown",
   "metadata": {},
   "source": [
    "$$U\\{\\hat{c}_t,l_t\\}_0^\\infty = E_0 \\sum_{t=0}^\\infty \\beta^t [\\ln \\hat{c}_t+\\psi \\ln(1-l_t)+\\ln(1+\\gamma)^t]n_t$$"
   ]
  },
  {
   "cell_type": "markdown",
   "metadata": {},
   "source": [
    "where the notation for detrended variables follows $\\hat{c}_t=\\frac{c_t}{(1+\\gamma)^t}$ and we assume that $n_{t+1}=(1+g_n)n_t$."
   ]
  },
  {
   "cell_type": "markdown",
   "metadata": {},
   "source": [
    "The household budget constraint becomes"
   ]
  },
  {
   "cell_type": "markdown",
   "metadata": {},
   "source": [
    "$$\\hat{c}_t+(1+\\tau_{xt})\\hat{x}_t = r_t\\hat{k}_t+(1-\\tau_{lt})\\hat{w}_tl_t+\\hat{\\phi}_t$$"
   ]
  },
  {
   "cell_type": "markdown",
   "metadata": {},
   "source": [
    "where $\\hat{\\phi}_t$ representes per-capita detrended government transfers."
   ]
  },
  {
   "cell_type": "markdown",
   "metadata": {},
   "source": [
    "The production function is also detrended and expressed in per-capita terms"
   ]
  },
  {
   "cell_type": "markdown",
   "metadata": {},
   "source": [
    "$$\\hat{y}=\\hat{k}^\\theta_t(z_tl_t)^{1-\\theta}$$"
   ]
  },
  {
   "cell_type": "markdown",
   "metadata": {},
   "source": [
    "and consequently wages and the rental price of capital are the solution to the same problem"
   ]
  },
  {
   "cell_type": "markdown",
   "metadata": {},
   "source": [
    "$$\\max_{\\hat{k}_t,l_t} \\hat{k}^\\theta_t(z_tl_t)^{1-\\theta}-r_tk_t-w_tl_t$$"
   ]
  },
  {
   "cell_type": "markdown",
   "metadata": {},
   "source": [
    "Note also the capital accumulation equation in per-capita, detrended terms:"
   ]
  },
  {
   "cell_type": "markdown",
   "metadata": {},
   "source": [
    "$$(1+n)(1+\\gamma)\\hat{k}_{t+1}=\\hat{x}_t+(1-\\delta)\\hat{k}_t$$"
   ]
  },
  {
   "cell_type": "markdown",
   "metadata": {},
   "source": [
    "### Optimization"
   ]
  },
  {
   "cell_type": "markdown",
   "metadata": {},
   "source": [
    "The firms problem stated previously leads to the following first order conditions"
   ]
  },
  {
   "cell_type": "markdown",
   "metadata": {},
   "source": [
    "\\begin{align}\n",
    "r_t &=\\theta\\hat{k}_t^{\\theta-1}(z_tl_t)^{1-\\theta} \\\\\n",
    "\\hat{w}_t &=(1-\\theta)z_t\\hat{k}_t^\\theta(z_tl_t)^{-\\theta}\n",
    "\\end{align}"
   ]
  },
  {
   "cell_type": "markdown",
   "metadata": {},
   "source": [
    "In order to set up the Lagrangian function for the representative household problem, I will first solve the capital accumulation equation for $\\hat{x}_t$"
   ]
  },
  {
   "cell_type": "markdown",
   "metadata": {},
   "source": [
    "$$\\hat{x}_t=(1+n)(1+\\gamma)\\hat{k}_{t+1}-(1-\\delta)\\hat{k}_t$$"
   ]
  },
  {
   "cell_type": "markdown",
   "metadata": {},
   "source": [
    "and substitute it in the household budget constraint to get:"
   ]
  },
  {
   "cell_type": "markdown",
   "metadata": {},
   "source": [
    "$$\\hat{c}_t+(1+\\tau_{xt})[(1+n)(1+\\gamma)\\hat{k}_{t+1}-(1-\\delta)\\hat{k}_t] = r_t\\hat{k}_t+(1-\\tau_{lt})\\hat{w}_tl_t+\\hat{\\phi}_t$$"
   ]
  },
  {
   "cell_type": "markdown",
   "metadata": {},
   "source": [
    "It is now time to set up the Lagrangian for the househehold problem. I now drop the $\\ln (1+\\gamma)^t$ from preferences since doing so, the preference ordering is not altered."
   ]
  },
  {
   "cell_type": "markdown",
   "metadata": {},
   "source": [
    "$$L^{HH}=E_0 \\sum_{t=0}^\\infty \\beta^t \\left\\{ [\\ln{\\hat{c}_t}+\\psi\\ln(1-l_t)]n_t+\\lambda_t\\left\\{r_t\\hat{k}_t+(1-\\tau_{lt})\\hat{w}_tl_t+\\hat{\\phi}_t-\\hat{c}_t-(1+\\tau_{xt})[(1+n)(1+\\gamma)\\hat{k}_{t+1}-(1-\\delta)\\hat{k}_t]\\right\\} \\right\\}$$"
   ]
  },
  {
   "cell_type": "markdown",
   "metadata": {},
   "source": [
    "The Inada conditions are fulfilled for the above functional forms and assumptions and, together with the appropriate no-Maddoff and transversality conditions, the solution is defined by taking the necessary first order conditions w.r.t. consumption, capital and labor."
   ]
  },
  {
   "cell_type": "markdown",
   "metadata": {},
   "source": [
    "### First Order Conditions"
   ]
  },
  {
   "cell_type": "markdown",
   "metadata": {},
   "source": [
    "\\begin{align}\n",
    "\\hat{c}_t &: \\frac{1}{\\hat{c}_t}n_t=\\lambda_t \\\\\n",
    "l_t &: \\frac{\\psi}{1-l_t}n_t=(1-\\tau_{lt})\\hat(w)_t\\lambda_t \\\\\n",
    "\\hat{k}_{t+1} &: \\lambda_t(1+\\tau_{xt}(1+n)(1+\\gamma)=\\beta E_t\\lambda_{t+1}[r_{t+1}-(1+\\tau_{xt})(1-\\delta)]\n",
    "\\end{align}"
   ]
  },
  {
   "cell_type": "markdown",
   "metadata": {},
   "source": [
    "From the firm's first order conditions, remember that $\\hat{w}_t =(1-\\theta)z_t\\hat{k}_t^\\theta(z_tl_t)^{-\\theta}$, so together with the first two equations, we get the labor-leisure equation"
   ]
  },
  {
   "cell_type": "markdown",
   "metadata": {},
   "source": [
    "$$\\frac{\\psi\\hat{c}_t}{1-l_t}=(1-\\tau_{lt})(1-\\theta)z_t\\hat{k}_t^\\theta(z_tl_t)^{-\\theta}$$"
   ]
  },
  {
   "cell_type": "markdown",
   "metadata": {},
   "source": [
    "The intertemporal condition or Euler equation reads"
   ]
  },
  {
   "cell_type": "markdown",
   "metadata": {},
   "source": [
    "$$\\frac{1}{\\hat{c}_t}(1+\\tau_{xt})=\\hat{\\beta}E_t\\left\\{\\frac{1}{\\hat{c}_{t+1}}[r_{t+1}-(1-\\tau_{x,t+1})(1-\\delta)]\\right\\}$$"
   ]
  },
  {
   "cell_type": "markdown",
   "metadata": {},
   "source": [
    "where I used the firm's f.o.c. w.r.t. capital and defined $\\hat{\\beta}=\\frac{\\beta}{1+\\gamma}$."
   ]
  },
  {
   "cell_type": "markdown",
   "metadata": {},
   "source": [
    "The model is closed and the solution implicitely defined by adding the households resource constraint to the set of equations defining the optimum"
   ]
  },
  {
   "cell_type": "markdown",
   "metadata": {},
   "source": [
    "$$\\hat{c}_t+(1+n)(1+\\gamma)\\hat{k}_{t+1}-(1-\\delta)\\hat{k}_t +\\hat{g}_t=\\hat{y}_t$$"
   ]
  },
  {
   "cell_type": "markdown",
   "metadata": {},
   "source": [
    "### Steady State Computation"
   ]
  },
  {
   "cell_type": "markdown",
   "metadata": {},
   "source": [
    "In the steady state, the Euler equation is given by"
   ]
  },
  {
   "cell_type": "markdown",
   "metadata": {},
   "source": [
    "$$(1+\\tau_x)=\\hat{\\beta}[r-(1-\\tau_x)(1-\\delta)]$$"
   ]
  },
  {
   "cell_type": "markdown",
   "metadata": {},
   "source": [
    "Solving this w.r.t. $r$ gives"
   ]
  },
  {
   "cell_type": "markdown",
   "metadata": {},
   "source": [
    "$$r=\\frac{(1+\\tau_x)[1-\\hat{\\beta}(1-\\delta)]}{\\hat{\\beta}}$$"
   ]
  },
  {
   "cell_type": "markdown",
   "metadata": {},
   "source": [
    "Remember that $r=\\hat{k}^{\\theta-1}(zl)^{1-\\theta}$ so that"
   ]
  },
  {
   "cell_type": "markdown",
   "metadata": {},
   "source": [
    "\\begin{align}\n",
    "\\hat{k}=\\left\\{\\frac{(1+\\tau_x)[1-\\hat{\\beta}(1-\\delta)]}{\\theta\\hat{\\beta}}\\right\\}^{\\frac{1}{\\theta-1}}zl\n",
    "\\end{align}"
   ]
  },
  {
   "cell_type": "markdown",
   "metadata": {},
   "source": [
    "Let $A$ and $B$ be"
   ]
  },
  {
   "cell_type": "markdown",
   "metadata": {},
   "source": [
    "\\begin{align}\n",
    "A &=\\left\\{\\frac{z}{\\frac{\\hat{k}}{l}}\\right\\}^{1-\\theta} -(1-\\gamma)(1+n)+(1-\\delta)\\\\\n",
    "B &=\\frac{(1-\\tau_l)(1-\\theta)\\left\\{\\frac{\\hat{k}}{l}\\right\\}^\\theta z^{1-\\theta}}{\\psi}\n",
    "\\end{align}\n"
   ]
  },
  {
   "cell_type": "markdown",
   "metadata": {},
   "source": [
    "Then"
   ]
  },
  {
   "cell_type": "markdown",
   "metadata": {},
   "source": [
    "\\begin{align} \n",
    "\\hat{k} &=\\frac{B+g}{A+\\frac{B}{\\frac{\\hat{k}}{l}}} \\\\\n",
    "\\hat{c} &=A\\hat{k}-g \\\\\n",
    "l &= \\frac{\\hat{k}}{\\frac{\\hat{k}}{l}} \\\\\n",
    "\\hat{y} &=\\hat{k}^\\theta(zl)^{1-\\theta} \\\\\n",
    "\\hat{x} &=\\hat{y}-\\hat{c}-\\hat{g}\n",
    "\\end{align}"
   ]
  },
  {
   "cell_type": "markdown",
   "metadata": {},
   "source": [
    "### The stochastic nonlinear second order difference equation in capital"
   ]
  },
  {
   "cell_type": "markdown",
   "metadata": {},
   "source": [
    "First we can rearrange the resource constraint to get consumption explicitely as a function of capital and labor i.e. $\\hat{c}(\\hat{k}_t,\\hat{k}_{t+1},l_t,\\mathbf{s}_t)$."
   ]
  },
  {
   "cell_type": "markdown",
   "metadata": {},
   "source": [
    "Then,using this function with the intratemporal condition, we can define labor implicitely as a function of capital i.e. $l_t(\\hat{k}_t,\\hat{k}_{t+1},\\mathbf{s}_t)$."
   ]
  },
  {
   "cell_type": "markdown",
   "metadata": {},
   "source": [
    "Finally, making use of these two functions, we can write the intertemporal condition as "
   ]
  },
  {
   "cell_type": "markdown",
   "metadata": {},
   "source": [
    "$$ E_t\\left\\{F(\\hat{k}_{t+2},\\hat{k}_{t+1},\\hat{k}_t,\\mathbf{s_t})\\right\\}=0$$"
   ]
  },
  {
   "cell_type": "markdown",
   "metadata": {},
   "source": [
    "This is the implicit formulation of the equilibrium solution for this economy."
   ]
  },
  {
   "cell_type": "markdown",
   "metadata": {},
   "source": [
    "We are going to approximate this non-linear stochastic second order difference equation with the log-linear specification"
   ]
  },
  {
   "cell_type": "markdown",
   "metadata": {},
   "source": [
    "\\begin{equation*}\n",
    "E_t \\left\\{a_0 \\ln\\hat{k}_{t+2}+a_1\\ln\\hat{k}_{t+1}+a_2\\ln\\hat{k}_t+\\mathbf{b}_0'\\mathbf{s}_{t+1}+\\mathbf{b}_1'\\mathbf{s}_t\\right\\}=0\n",
    "\\end{equation*}"
   ]
  },
  {
   "cell_type": "markdown",
   "metadata": {},
   "source": [
    "### Log-Linear approximation to the policy functions"
   ]
  },
  {
   "cell_type": "markdown",
   "metadata": {},
   "source": [
    "The aim now is to find a log-linear approximation to the solution of the form"
   ]
  },
  {
   "cell_type": "markdown",
   "metadata": {},
   "source": [
    "\\begin{equation}\n",
    "\\ln\\hat{k}_{t+1}=\\gamma_k\\ln \\hat{k}_t+\\mathbf{\\gamma}'\\mathbf{s}_t+\\mathbf{\\gamma}_0'  \n",
    "\\end{equation}"
   ]
  },
  {
   "cell_type": "markdown",
   "metadata": {},
   "source": [
    "where"
   ]
  },
  {
   "cell_type": "markdown",
   "metadata": {},
   "source": [
    "\\begin{equation*}\n",
    "\\mathbf{s}_t = [\\begin{matrix}\\ln z_t & \\tau_{lt} & \\tau_{xt} & \\ln g_t]\\end{matrix}\n",
    "\\end{equation*}"
   ]
  },
  {
   "cell_type": "markdown",
   "metadata": {},
   "source": [
    "We assume"
   ]
  },
  {
   "cell_type": "markdown",
   "metadata": {},
   "source": [
    "\\begin{equation*}\n",
    "\\mathbf{s}_{t+1}=\\mathbf{P}\\mathbf{s}_t+\\mathbf{p}_0+\\epsilon_{t+1}\n",
    "\\end{equation*}"
   ]
  },
  {
   "cell_type": "markdown",
   "metadata": {},
   "source": [
    "with $\\epsilon_t \\sim N(\\mathbf{0},\\mathbf{Q}'\\mathbf{Q})$."
   ]
  },
  {
   "cell_type": "markdown",
   "metadata": {},
   "source": [
    "We now use these policy function approximations in the log-linear version of the approximation to the solution "
   ]
  },
  {
   "cell_type": "markdown",
   "metadata": {},
   "source": [
    "\\begin{equation}\n",
    "E_t \\left\\{\n",
    "a_0(\\gamma_k \\ln\\hat{k}_{t+1}+\\mathbf{\\gamma}'\\mathbf{s}_{t+1})\n",
    "+a_1(\\gamma_k\\ln\\hat{k}_t+\\mathbf{\\gamma}'\\mathbf{s}_t)\n",
    "+a_2\\ln\\hat{k}_t\n",
    "+\\mathbf{b}'_0\\mathbf{s}_{t+1}\n",
    "+\\mathbf{b}'_1\\mathbf{s}_t\n",
    "\\right\\}=0\n",
    "\\end{equation}"
   ]
  },
  {
   "cell_type": "markdown",
   "metadata": {},
   "source": [
    "The left-hand side can only be zero (in general) if $\\gamma_k$ and $\\mathbf{\\gamma}$ satisfy the following system of equations"
   ]
  },
  {
   "cell_type": "markdown",
   "metadata": {},
   "source": [
    "\\begin{equation*}\n",
    "\\cases{\n",
    "a_0\\gamma^2_k+a_1\\gamma_k+a_2=0 \\cr\n",
    "a_0\\gamma_k\\mathbf{\\gamma}\\mathbf{P}+a_1\\mathbf{\\gamma}+\\mathbf{b}'_0\\mathbf{P}+\\mathbf{b}'_1 = \\mathbf{0}\n",
    "}\n",
    "\\end{equation*}\n"
   ]
  },
  {
   "cell_type": "markdown",
   "metadata": {},
   "source": [
    "Because of the quadratic equation in $\\gamma_k$, there will be two solutions for this system that are $1/\\sqrt \\beta$ reciprocals."
   ]
  },
  {
   "cell_type": "markdown",
   "metadata": {},
   "source": [
    "The transversality condition imposes an upper bound for capital and therefore the solution to be chosen is the one associated with the root that is lower than $1 / \\sqrt \\beta$. Then"
   ]
  },
  {
   "cell_type": "markdown",
   "metadata": {},
   "source": [
    "$\\mathbf{\\gamma}=-[(a_0\\gamma_k+a_1)\\mathbf{I}_{4\\times4}+a_0\\mathbf{P}']^{-1}(\\mathbf{b}'_0\\mathbf{P}+\\mathbf{b}'_1\\mathbf{I}_{4 \\times 4})'$"
   ]
  },
  {
   "cell_type": "markdown",
   "metadata": {},
   "source": [
    "Once known the values of $\\mathbf{\\gamma}$ and $\\gamma_k$, $\\gamma_0$ is given by using the steady state values"
   ]
  },
  {
   "cell_type": "markdown",
   "metadata": {},
   "source": [
    "$$\\gamma_0=(1-\\gamma_k)\\ln\\hat{k}-\\mathbf{\\gamma}'\\mathbf{s}$$"
   ]
  },
  {
   "cell_type": "markdown",
   "metadata": {},
   "source": [
    "### Exercise"
   ]
  },
  {
   "cell_type": "markdown",
   "metadata": {},
   "source": [
    "Assume that one period is one quarter and the below parameters:"
   ]
  },
  {
   "cell_type": "markdown",
   "metadata": {},
   "source": [
    "\n",
    "| Parameter |      Value        |             Description    |\n",
    "| :----:    | :-------:             | :------:                   |    \n",
    "| $g_n$     | $1.015^{1/4}-1$       | Net population growth rate |\n",
    "| $g_z$     | $1.016^{1/4}-1$       | Net technology growth rate |\n",
    "| $\\beta$   | $0.9722^{1/4}$        | Time preference            |\n",
    "| $\\delta$  | $1-(1-0.0464)^{1/4}$  | Capital depreciation rate  |\n",
    "| $\\psi$    | $2.24$                | Disutility of work         |\n",
    "| $\\sigma$  | $1.00001$             | CRRA coefficient           |\n",
    "| $\\theta$  | $0.35$                | Capital share of output    |\n"
   ]
  },
  {
   "cell_type": "markdown",
   "metadata": {},
   "source": [
    "Let $\\mathbf{P}$ be:"
   ]
  },
  {
   "cell_type": "markdown",
   "metadata": {},
   "source": [
    "$P =\n",
    "\\begin{bmatrix}\n",
    " 0.98    &-0.014 & -0.012  & 0.192 \\\\\n",
    "-0.033   & 0.956 & -0.045  & 0.057 \\\\\n",
    "-0.070   &-0.046 &  0.896  & 0.104 \\\\\n",
    " 0.005   &-0.008 &  0.049  & 0.971 \\\\\n",
    "\\end{bmatrix}\n",
    "$"
   ]
  },
  {
   "cell_type": "markdown",
   "metadata": {},
   "source": [
    "Assume also that the unconditional mean of the $\\mathbf{s}_t$ process $\\mathbf{\\overline{s}}$ is given by:"
   ]
  },
  {
   "cell_type": "markdown",
   "metadata": {},
   "source": [
    "$\\mathbf{\\overline{s}} =\n",
    "\\begin{bmatrix}\n",
    "-0.024 & 0.328 & 0.483 & -1.53\n",
    "\\end{bmatrix}$\n"
   ]
  },
  {
   "cell_type": "markdown",
   "metadata": {},
   "source": [
    "Lastly, let the variance covariance matrix $\\mathbf{Q}'\\mathbf{Q}$ be such that:"
   ]
  },
  {
   "cell_type": "markdown",
   "metadata": {},
   "source": [
    "$ Q =\n",
    "\\begin{bmatrix}\n",
    " 0.0116  & 0      &  0      & 0     \\\\\n",
    " 0.001   & 0.956  & -0.045  & 0.057 \\\\\n",
    "-0.07    &-0.046  &  0.896  & 0.104 \\\\\n",
    " 0.005   &-0.008  &  0.049  & 0.971 \\\\\n",
    "\\end{bmatrix}\n",
    "$"
   ]
  },
  {
   "cell_type": "markdown",
   "metadata": {},
   "source": [
    "Solve for the log-linear approximation to the capital policy function $\\ln\\hat{k}_{t+1}=\\gamma_k\\ln \\hat{k}_t+\\mathbf{\\gamma}'\\mathbf{s}_t+\\mathbf{\\gamma}_0'$. Simulate time series for capital for 100 and 1000 realizations and plot the results."
   ]
  },
  {
   "cell_type": "markdown",
   "metadata": {},
   "source": [
    "### Solution"
   ]
  },
  {
   "cell_type": "markdown",
   "metadata": {},
   "source": [
    "1. Start by computing $\\mathbf{p}_0$. Hint: $\\mathbf{\\overline{s}}=\\frac{\\mathbf{p}_0}{\\mathbf{I}-\\mathbf{P}}$."
   ]
  },
  {
   "cell_type": "markdown",
   "metadata": {},
   "source": [
    "2. Solve for the steady state level of capital $k_{ss}$."
   ]
  },
  {
   "cell_type": "markdown",
   "metadata": {},
   "source": [
    "3. Create a function that, for given parameters, maps $k_{t+2},k_{t+2},k_t,\\mathbf{s}_{t+1}$ and $\\mathbf{s}_t$ to the residual of the Euler equation."
   ]
  },
  {
   "cell_type": "markdown",
   "metadata": {},
   "source": [
    "4. Use that function to compute $a_0, a_1, a_2, \\mathbf{b}_0$ and $\\mathbf{b}_1$. Use numerical derivatives!"
   ]
  },
  {
   "cell_type": "markdown",
   "metadata": {},
   "source": [
    "5. Given $a_0, a_1$ and $a_2$, find $\\gamma_k$"
   ]
  },
  {
   "cell_type": "markdown",
   "metadata": {},
   "source": [
    "6. Given $a_0, \\gamma_k, a_1, \\mathbf{P}, \\mathbf{b}_0$ and $\\mathbf{b}_1$, find $\\mathbf{\\gamma}$."
   ]
  },
  {
   "cell_type": "markdown",
   "metadata": {},
   "source": [
    "7. Given $\\gamma_k, k_{ss}, \\mathbf{\\gamma}$ and $\\mathbf{\\overline{s}}$, get $\\gamma_0$."
   ]
  },
  {
   "cell_type": "markdown",
   "metadata": {},
   "source": [
    "8. Use the law of motion for $\\mathbf{s_t}$ to get 1000 realizations. Assume $\\mathbf{s}_0 = \\mathbf{\\overline{s}}$."
   ]
  },
  {
   "cell_type": "markdown",
   "metadata": {},
   "source": [
    "9. Given the time series for $\\mathbf{s}_t$, and the policy function for capital, get the time series for capital. Assume $k_1=k_{ss}$."
   ]
  },
  {
   "cell_type": "markdown",
   "metadata": {},
   "source": [
    "10. Plot the results using matplotlib."
   ]
  },
  {
   "cell_type": "markdown",
   "metadata": {},
   "source": [
    "11. Challenge: compute the IRF and plot them.\n"
   ]
  }
 ],
 "metadata": {
  "kernelspec": {
   "display_name": "Python 3",
   "language": "python",
   "name": "python3"
  },
  "language_info": {
   "codemirror_mode": {
    "name": "ipython",
    "version": 3
   },
   "file_extension": ".py",
   "mimetype": "text/x-python",
   "name": "python",
   "nbconvert_exporter": "python",
   "pygments_lexer": "ipython3",
   "version": "3.8.3"
  }
 },
 "nbformat": 4,
 "nbformat_minor": 4
}
